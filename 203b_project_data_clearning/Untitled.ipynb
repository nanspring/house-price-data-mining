{
 "cells": [
  {
   "cell_type": "code",
   "execution_count": 1,
   "metadata": {},
   "outputs": [
    {
     "name": "stdout",
     "output_type": "stream",
     "text": [
      "1460 1460\n"
     ]
    }
   ],
   "source": [
    "import pandas as pd\n",
    "import os\n",
    "\n",
    "folder = \"house-prices-advanced-regression-techniques\"\n",
    "X = pd.read_csv(os.path.join(folder, \"Xtrain.csv\"))\n",
    "X = X.drop('SalePrice', 1)\n",
    "X.head()\n",
    "\n",
    "y = pd.read_csv(os.path.join(folder, \"ytrain.csv\"))\n",
    "y.head()\n",
    "print(len(y),len(X))"
   ]
  },
  {
   "cell_type": "code",
   "execution_count": 20,
   "metadata": {},
   "outputs": [],
   "source": [
    "from sklearn.model_selection import train_test_split\n",
    "from sklearn import preprocessing\n",
    "import numpy as np\n",
    "\n",
    "X_train, X_test, y_train, y_test = train_test_split(X, y, shuffle = True,test_size=0.2, random_state=42)\n",
    "\n",
    "#normalize data\n",
    "min_max_scaler = preprocessing.MinMaxScaler()\n",
    "X_train_minmax = min_max_scaler.fit_transform(X_train)\n",
    "X_test_minmax = min_max_scaler.transform(X_test)\n",
    "y_train_log = np.log1p(y_train['SalePrice'])\n",
    "y_test_log = np.log1p(y_test['SalePrice'])"
   ]
  },
  {
   "cell_type": "code",
   "execution_count": 21,
   "metadata": {},
   "outputs": [
    {
     "name": "stdout",
     "output_type": "stream",
     "text": [
      "[0.13964642 0.07972173 0.05829733 0.04084765 0.03583725 0.03355175\n",
      " 0.03046535 0.03002111 0.02739183 0.02503527 0.02349229 0.02097432\n",
      " 0.01891521 0.01742057 0.01593482 0.01547524 0.0134434  0.01304206\n",
      " 0.01223175 0.01136338 0.01108172 0.01049538 0.01010093 0.00984611\n",
      " 0.00971902 0.00924291 0.00878911 0.00814468 0.00791741 0.00751771\n",
      " 0.00718803 0.00681912 0.00662434 0.00632042 0.00620924 0.00604605\n",
      " 0.00587446 0.00571341 0.00555824 0.00545721 0.00532843 0.00508776\n",
      " 0.00494621 0.00486949 0.00469986 0.004382   0.00412615 0.00401244\n",
      " 0.00382165 0.00376083]\n"
     ]
    }
   ],
   "source": [
    "from sklearn.decomposition import PCA\n",
    "\n",
    "pca = PCA(n_components=50)\n",
    "X_train_pca = pca.fit_transform(X_train_minmax)\n",
    "X_test_pca = pca.transform(X_test_minmax)\n",
    "print(pca.explained_variance_ratio_)"
   ]
  },
  {
   "cell_type": "code",
   "execution_count": null,
   "metadata": {},
   "outputs": [],
   "source": []
  },
  {
   "cell_type": "code",
   "execution_count": 22,
   "metadata": {},
   "outputs": [
    {
     "name": "stdout",
     "output_type": "stream",
     "text": [
      "train mean absolut error:  0.10639137137916722\n",
      "test mean absolut error:  0.10923890236369961\n"
     ]
    }
   ],
   "source": [
    "# linear regression\n",
    "from sklearn.linear_model import LinearRegression\n",
    "from sklearn.metrics import mean_absolute_error\n",
    "reg = LinearRegression().fit(X_train_pca, y_train_log)\n",
    "print(\"train mean absolut error: \",mean_absolute_error(y_train_log, reg.predict(X_train_pca)))\n",
    "print(\"test mean absolut error: \",mean_absolute_error(y_test_log, reg.predict(X_test_pca)))"
   ]
  },
  {
   "cell_type": "code",
   "execution_count": 37,
   "metadata": {},
   "outputs": [
    {
     "data": {
      "text/plain": [
       "<Figure size 1280x960 with 0 Axes>"
      ]
     },
     "metadata": {},
     "output_type": "display_data"
    },
    {
     "data": {
      "image/png": "[encoded data removed]",
      "text/plain": [
       "<Figure size 432x288 with 1 Axes>"
      ]
     },
     "metadata": {},
     "output_type": "display_data"
    }
   ],
   "source": [
    "g1list = [0.017,0.151]\n",
    "# g2list = [0.2854,0.2842,0.2856,0.2779,0.2716]\n",
    "# g3list = [0.0685,0.0786,0.0827,0.139,0.1425]\n",
    "n2list = ['train','test']\n",
    "\n",
    "figure(num=None, figsize=(16, 12), dpi=80, facecolor='w', edgecolor='k')\n",
    "df = pd.DataFrame(np.c_[g1list], index=n2list,columns=['mse'])\n",
    "df.plot.bar()\n",
    "# plt.xlabel(\"MSE of train and test\")\n",
    "plt.ylabel(\"mean absolute error\")\n",
    "#sns.barplot(x=\"time\", hue=\"kind\", y=\"data\", data=df)\n",
    "# plt.bar(n1list-0.2,g1list,label=\"4 output/thread bx8by2\")\n",
    "# plt.bar(n2list,g2list,label=\"4 output/thread bx16by4\")\n",
    "# plt.bar(n3list+0.2,g3list,label=\"4 output/thread bx32by8\")\n",
    "# plt.legend(loc=\"center left\", bbox_to_anchor=(1, 0.5))\n",
    "plt.ylim([0,0.17])\n",
    "plt.title(\"Random Forest MSE\")\n",
    "plt.grid()\n",
    "plt.show()"
   ]
  },
  {
   "cell_type": "code",
   "execution_count": 23,
   "metadata": {},
   "outputs": [
    {
     "name": "stdout",
     "output_type": "stream",
     "text": [
      "train mean absolut error:  0.08721700731747045\n",
      "test mean absolut error:  0.10850470058556248\n"
     ]
    },
    {
     "name": "stderr",
     "output_type": "stream",
     "text": [
      "/anaconda3/lib/python3.6/site-packages/sklearn/svm/base.py:193: FutureWarning: The default value of gamma will change from 'auto' to 'scale' in version 0.22 to account better for unscaled features. Set gamma explicitly to 'auto' or 'scale' to avoid this warning.\n",
      "  \"avoid this warning.\", FutureWarning)\n"
     ]
    }
   ],
   "source": [
    "# support vector regresion\n",
    "from sklearn.svm import SVR\n",
    "clf = SVR(C=1, epsilon=0.05)\n",
    "clf.fit(X_train_pca, y_train_log)\n",
    "print(\"train mean absolut error: \",mean_absolute_error(y_train_log, clf.predict(X_train_pca)))\n",
    "print(\"test mean absolut error: \",mean_absolute_error(y_test_log, clf.predict(X_test_pca)))"
   ]
  },
  {
   "cell_type": "code",
   "execution_count": 39,
   "metadata": {},
   "outputs": [
    {
     "name": "stderr",
     "output_type": "stream",
     "text": [
      "/anaconda3/lib/python3.6/site-packages/sklearn/ensemble/forest.py:245: FutureWarning: The default value of n_estimators will change from 10 in version 0.20 to 100 in 0.22.\n",
      "  \"10 in version 0.20 to 100 in 0.22.\", FutureWarning)\n"
     ]
    },
    {
     "name": "stdout",
     "output_type": "stream",
     "text": [
      "[0.5084802  0.00439388 0.07003538 0.03296029 0.06396382 0.00880549\n",
      " 0.02110395 0.01255429 0.00265522 0.02322274 0.00469791 0.01598723\n",
      " 0.00391249 0.00503472 0.00368213 0.00399399 0.01192687 0.0049791\n",
      " 0.00247491 0.00362683 0.00737328 0.00493124 0.00534489 0.01872871\n",
      " 0.00547374 0.00488386 0.00292081 0.00417811 0.01318367 0.00781805\n",
      " 0.00420097 0.00371006 0.00445876 0.00388113 0.00718217 0.00458654\n",
      " 0.01003682 0.00372516 0.00322175 0.00371939 0.00808511 0.00616915\n",
      " 0.00674482 0.00897936 0.0053311  0.00357538 0.00977417 0.00511782\n",
      " 0.00614074 0.00803179]\n",
      "train mean absolut error:  0.06165699030191896\n",
      "test mean absolut error:  0.15390873724511944\n"
     ]
    },
    {
     "ename": "ValueError",
     "evalue": "Length of passed values is 50, index implies 214",
     "output_type": "error",
     "traceback": [
      "\u001b[0;31m---------------------------------------------------------------------------\u001b[0m",
      "\u001b[0;31mValueError\u001b[0m                                Traceback (most recent call last)",
      "\u001b[0;32m<ipython-input-39-b19d63958330>\u001b[0m in \u001b[0;36m<module>\u001b[0;34m()\u001b[0m\n\u001b[1;32m      7\u001b[0m \u001b[0mprint\u001b[0m\u001b[0;34m(\u001b[0m\u001b[0;34m\"test mean absolut error: \"\u001b[0m\u001b[0;34m,\u001b[0m\u001b[0mmean_absolute_error\u001b[0m\u001b[0;34m(\u001b[0m\u001b[0my_test_log\u001b[0m\u001b[0;34m,\u001b[0m \u001b[0mregr\u001b[0m\u001b[0;34m.\u001b[0m\u001b[0mpredict\u001b[0m\u001b[0;34m(\u001b[0m\u001b[0mX_test_pca\u001b[0m\u001b[0;34m)\u001b[0m\u001b[0;34m)\u001b[0m\u001b[0;34m)\u001b[0m\u001b[0;34m\u001b[0m\u001b[0m\n\u001b[1;32m      8\u001b[0m \u001b[0;34m\u001b[0m\u001b[0m\n\u001b[0;32m----> 9\u001b[0;31m \u001b[0mfeat_importances\u001b[0m \u001b[0;34m=\u001b[0m \u001b[0mpd\u001b[0m\u001b[0;34m.\u001b[0m\u001b[0mSeries\u001b[0m\u001b[0;34m(\u001b[0m\u001b[0mregr\u001b[0m\u001b[0;34m.\u001b[0m\u001b[0mfeature_importances_\u001b[0m\u001b[0;34m,\u001b[0m \u001b[0mindex\u001b[0m\u001b[0;34m=\u001b[0m\u001b[0mX\u001b[0m\u001b[0;34m.\u001b[0m\u001b[0mcolumns\u001b[0m\u001b[0;34m)\u001b[0m\u001b[0;34m\u001b[0m\u001b[0m\n\u001b[0m\u001b[1;32m     10\u001b[0m \u001b[0mfeat_importances\u001b[0m\u001b[0;34m.\u001b[0m\u001b[0mnlargest\u001b[0m\u001b[0;34m(\u001b[0m\u001b[0;36m4\u001b[0m\u001b[0;34m)\u001b[0m\u001b[0;34m.\u001b[0m\u001b[0mplot\u001b[0m\u001b[0;34m(\u001b[0m\u001b[0mkind\u001b[0m\u001b[0;34m=\u001b[0m\u001b[0;34m'barh'\u001b[0m\u001b[0;34m)\u001b[0m\u001b[0;34m\u001b[0m\u001b[0m\n",
      "\u001b[0;32m/anaconda3/lib/python3.6/site-packages/pandas/core/series.py\u001b[0m in \u001b[0;36m__init__\u001b[0;34m(self, data, index, dtype, name, copy, fastpath)\u001b[0m\n\u001b[1;32m    259\u001b[0m                             \u001b[0;34m'Length of passed values is {val}, '\u001b[0m\u001b[0;34m\u001b[0m\u001b[0m\n\u001b[1;32m    260\u001b[0m                             \u001b[0;34m'index implies {ind}'\u001b[0m\u001b[0;34m\u001b[0m\u001b[0m\n\u001b[0;32m--> 261\u001b[0;31m                             .format(val=len(data), ind=len(index)))\n\u001b[0m\u001b[1;32m    262\u001b[0m                 \u001b[0;32mexcept\u001b[0m \u001b[0mTypeError\u001b[0m\u001b[0;34m:\u001b[0m\u001b[0;34m\u001b[0m\u001b[0m\n\u001b[1;32m    263\u001b[0m                     \u001b[0;32mpass\u001b[0m\u001b[0;34m\u001b[0m\u001b[0m\n",
      "\u001b[0;31mValueError\u001b[0m: Length of passed values is 50, index implies 214"
     ]
    }
   ],
   "source": [
    "# random forest regressor\n",
    "from sklearn.ensemble import RandomForestRegressor\n",
    "regr = RandomForestRegressor(max_depth=20, random_state=0)\n",
    "regr.fit(X_train_pca, y_train_log)\n",
    "print(regr.feature_importances_)\n",
    "print(\"train mean absolut error: \",mean_absolute_error(y_train_log, regr.predict(X_train_pca)))\n",
    "print(\"test mean absolut error: \",mean_absolute_error(y_test_log, regr.predict(X_test_pca)))\n",
    "\n",
    "feat_importances = pd.Series(regr.feature_importances_, index=X.columns)\n",
    "feat_importances.nlargest(4).plot(kind='barh')"
   ]
  },
  {
   "cell_type": "code",
   "execution_count": 36,
   "metadata": {},
   "outputs": [
    {
     "name": "stdout",
     "output_type": "stream",
     "text": [
      "[12:24:27] WARNING: /private/var/folders/sh/dv5hl32j4f3cyjln9hr4s_cc0000gn/T/pip-install-4sxifnjd/xgboost/xgboost/src/objective/regression_obj.cu:167: reg:linear is now deprecated in favor of reg:squarederror.\n",
      "[0]\tvalidation_0-rmse:8.05301\n",
      "Will train until validation_0-rmse hasn't improved in 5 rounds.\n",
      "[1]\tvalidation_0-rmse:5.63822\n",
      "[2]\tvalidation_0-rmse:3.94900\n",
      "[3]\tvalidation_0-rmse:2.76961\n",
      "[4]\tvalidation_0-rmse:1.94662\n",
      "[5]\tvalidation_0-rmse:1.38048\n",
      "[6]\tvalidation_0-rmse:0.98889\n",
      "[7]\tvalidation_0-rmse:0.72320\n",
      "[8]\tvalidation_0-rmse:0.54645\n",
      "[9]\tvalidation_0-rmse:0.42607\n",
      "[10]\tvalidation_0-rmse:0.34216\n",
      "[11]\tvalidation_0-rmse:0.29409\n",
      "[12]\tvalidation_0-rmse:0.26689\n",
      "[13]\tvalidation_0-rmse:0.25185\n",
      "[14]\tvalidation_0-rmse:0.24142\n",
      "[15]\tvalidation_0-rmse:0.23602\n",
      "[16]\tvalidation_0-rmse:0.23200\n",
      "[17]\tvalidation_0-rmse:0.22942\n",
      "[18]\tvalidation_0-rmse:0.22859\n",
      "[19]\tvalidation_0-rmse:0.22743\n",
      "[20]\tvalidation_0-rmse:0.22609\n",
      "[21]\tvalidation_0-rmse:0.22512\n",
      "[22]\tvalidation_0-rmse:0.22404\n",
      "[23]\tvalidation_0-rmse:0.22325\n",
      "[24]\tvalidation_0-rmse:0.22283\n",
      "[25]\tvalidation_0-rmse:0.22242\n",
      "[26]\tvalidation_0-rmse:0.22231\n",
      "[27]\tvalidation_0-rmse:0.22232\n",
      "[28]\tvalidation_0-rmse:0.22177\n",
      "[29]\tvalidation_0-rmse:0.22137\n",
      "[30]\tvalidation_0-rmse:0.22109\n",
      "[31]\tvalidation_0-rmse:0.22071\n",
      "[32]\tvalidation_0-rmse:0.22062\n",
      "[33]\tvalidation_0-rmse:0.22049\n",
      "[34]\tvalidation_0-rmse:0.22016\n",
      "[35]\tvalidation_0-rmse:0.22017\n",
      "[36]\tvalidation_0-rmse:0.21991\n",
      "[37]\tvalidation_0-rmse:0.21954\n",
      "[38]\tvalidation_0-rmse:0.21962\n",
      "[39]\tvalidation_0-rmse:0.21965\n",
      "[40]\tvalidation_0-rmse:0.21955\n",
      "[41]\tvalidation_0-rmse:0.21942\n",
      "[42]\tvalidation_0-rmse:0.21929\n",
      "[43]\tvalidation_0-rmse:0.21935\n",
      "[44]\tvalidation_0-rmse:0.21936\n",
      "[45]\tvalidation_0-rmse:0.21946\n",
      "[46]\tvalidation_0-rmse:0.21950\n",
      "[47]\tvalidation_0-rmse:0.21949\n",
      "Stopping. Best iteration:\n",
      "[42]\tvalidation_0-rmse:0.21929\n",
      "\n",
      "train mean absolut error:  0.017002144685402985\n",
      "test mean absolut error:  0.15121488741899133\n"
     ]
    }
   ],
   "source": [
    "import xgboost as xgb\n",
    "\n",
    "xgb_model = xgb.XGBRegressor(objective=\"reg:linear\", random_state=42)\n",
    "xgb_model.fit(X_train_pca, y_train_log, early_stopping_rounds=5, eval_set=[(X_test_pca, y_test_log)])\n",
    "print(\"train mean absolut error: \",mean_absolute_error(y_train_log, xgb_model.predict(X_train_pca)))\n",
    "print(\"test mean absolut error: \",mean_absolute_error(y_test_log, xgb_model.predict(X_test_pca)))\n"
   ]
  },
  {
   "cell_type": "code",
   "execution_count": null,
   "metadata": {},
   "outputs": [],
   "source": []
  }
 ],
 "metadata": {
  "kernelspec": {
   "display_name": "Python 3",
   "language": "python",
   "name": "python3"
  },
  "language_info": {
   "codemirror_mode": {
    "name": "ipython",
    "version": 3
   },
   "file_extension": ".py",
   "mimetype": "text/x-python",
   "name": "python",
   "nbconvert_exporter": "python",
   "pygments_lexer": "ipython3",
   "version": "3.6.5"
  }
 },
 "nbformat": 4,
 "nbformat_minor": 2
}
